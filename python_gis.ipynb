{
 "cells": [
  {
   "cell_type": "markdown",
   "metadata": {},
   "source": [
    "**Getting started with Python**"
   ]
  },
  {
   "cell_type": "markdown",
   "metadata": {},
   "source": [
    "## Learn Objective\n",
    "- Define & use Variable & convert `data types`\n",
    "- Describe `index variable` & use Python collection/libraries\n",
    "- Utilizze fr `loops` to `repeat` action on program\n",
    "- Use conditional statement to decide part of program\n",
    "- create fuctions to make easy use & reuse program\n",
    "- understand how to crate your own python script & Python modular."
   ]
  },
  {
   "cell_type": "markdown",
   "metadata": {},
   "source": [
    "# 1 Simple Syntax\n"
   ]
  },
  {
   "cell_type": "code",
   "execution_count": 7,
   "metadata": {},
   "outputs": [
    {
     "name": "stdout",
     "output_type": "stream",
     "text": [
      "Hello World\n"
     ]
    }
   ],
   "source": [
    "print(\"Hello World\")"
   ]
  },
  {
   "cell_type": "code",
   "execution_count": 15,
   "metadata": {},
   "outputs": [
    {
     "data": {
      "text/plain": [
       "'This is comment too\\nbut you can make this \\ncomment become a paragraph'"
      ]
     },
     "execution_count": 15,
     "metadata": {},
     "output_type": "execute_result"
    }
   ],
   "source": [
    "# This is a COMMENT, but this just execute one line comment\n",
    "'''This is comment too\n",
    "but you can make this \n",
    "comment become a paragraph'''"
   ]
  },
  {
   "cell_type": "markdown",
   "metadata": {},
   "source": [
    "# 2 Simple Python Math"
   ]
  },
  {
   "cell_type": "code",
   "execution_count": 9,
   "metadata": {},
   "outputs": [
    {
     "data": {
      "text/plain": [
       "2"
      ]
     },
     "execution_count": 9,
     "metadata": {},
     "output_type": "execute_result"
    }
   ],
   "source": [
    "1 + 1\n",
    "# Cklick \"Shift+Enter\" it will run syntax"
   ]
  },
  {
   "cell_type": "code",
   "execution_count": 10,
   "metadata": {},
   "outputs": [
    {
     "data": {
      "text/plain": [
       "35"
      ]
     },
     "execution_count": 10,
     "metadata": {},
     "output_type": "execute_result"
    }
   ],
   "source": [
    "5 * 7"
   ]
  },
  {
   "cell_type": "code",
   "execution_count": null,
   "metadata": {},
   "outputs": [
    {
     "data": {
      "text/plain": [
       "35"
      ]
     },
     "execution_count": 8,
     "metadata": {},
     "output_type": "execute_result"
    }
   ],
   "source": [
    "1 + 1\n",
    "5 * 7\n",
    "# This Syntax Just Printing the last one"
   ]
  },
  {
   "cell_type": "markdown",
   "metadata": {},
   "source": [
    "# 3 FUNCTIONS"
   ]
  },
  {
   "cell_type": "markdown",
   "metadata": {},
   "source": [
    "Pyhton will more advanced  math with fuction\n",
    "ex: print()"
   ]
  },
  {
   "cell_type": "code",
   "execution_count": null,
   "metadata": {},
   "outputs": [
    {
     "ename": "NameError",
     "evalue": "name 'sin' is not defined",
     "output_type": "error",
     "traceback": [
      "\u001b[1;31m---------------------------------------------------------------------------\u001b[0m",
      "\u001b[1;31mNameError\u001b[0m                                 Traceback (most recent call last)",
      "Cell \u001b[1;32mIn[12], line 2\u001b[0m\n\u001b[0;32m      1\u001b[0m \u001b[38;5;66;03m# Lest Try another\u001b[39;00m\n\u001b[1;32m----> 2\u001b[0m \u001b[43msin\u001b[49m(\u001b[38;5;241m3\u001b[39m)\n\u001b[0;32m      3\u001b[0m sqrt(\u001b[38;5;241m4\u001b[39m)\n",
      "\u001b[1;31mNameError\u001b[0m: name 'sin' is not defined"
     ]
    }
   ],
   "source": [
    "# Lest Try another\n",
    "sin(3)\n",
    "sqrt(4)\n",
    "\n",
    "'''Why Error?\n",
    "What happen?\n",
    "we need more step\n",
    "'''"
   ]
  },
  {
   "cell_type": "markdown",
   "metadata": {},
   "source": [
    "Math Operation\n",
    "\n",
    "|Fuction                       |Symbol    |Syntax    |Returned Value (Run Syntax)   |\n",
    "|-----------------------------:|---------:|---------:|:-----------------------------|\n",
    "|- Addtion (Pertambahan)       | +        |2 + 2     |    4                         |\n",
    "|- Subtitution (Pengurangan)   | -        |4 - 2     |    2                         |\n",
    "|- Multiplication (perkalian)  | *        |2 * 3     |    6                         |\n",
    "|- Division (Pembagian)        |/         |4 / 2     |    2                         |\n",
    "|- Exponentian (Penmangkatan)  | **       | 2**      |    8                         |\n",
    "\n",
    "For More advanced math you can use `module or library` this module is called `math` and it can be loaded by typing `import math`.\n",
    "\n",
    "```\n",
    "$import math$\n",
    "```"
   ]
  }
 ],
 "metadata": {
  "kernelspec": {
   "display_name": "Python 3",
   "language": "python",
   "name": "python3"
  },
  "language_info": {
   "codemirror_mode": {
    "name": "ipython",
    "version": 3
   },
   "file_extension": ".py",
   "mimetype": "text/x-python",
   "name": "python",
   "nbconvert_exporter": "python",
   "pygments_lexer": "ipython3",
   "version": "3.12.5"
  }
 },
 "nbformat": 4,
 "nbformat_minor": 2
}
