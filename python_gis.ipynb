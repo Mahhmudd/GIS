{
 "cells": [
  {
   "cell_type": "markdown",
   "metadata": {},
   "source": [
    "**Getting started with Python**"
   ]
  },
  {
   "cell_type": "markdown",
   "metadata": {},
   "source": [
    "## Learn Objective\n",
    "- Define & use Variable & convert `data types`\n",
    "- Describe `index variable` & use Python collection/libraries\n",
    "- Utilizze fr `loops` to `repeat` action on program\n",
    "- Use conditional statement to decide part of program\n",
    "- create fuctions to make easy use & reuse program\n",
    "- understand how to crate your own python script & Python modular."
   ]
  },
  {
   "cell_type": "markdown",
   "metadata": {},
   "source": [
    "# 1 Simple Syntax\n"
   ]
  },
  {
   "cell_type": "code",
   "execution_count": 15,
   "metadata": {},
   "outputs": [
    {
     "name": "stdout",
     "output_type": "stream",
     "text": [
      "Hello World\n"
     ]
    }
   ],
   "source": [
    "print(\"Hello World\")"
   ]
  },
  {
   "cell_type": "code",
   "execution_count": 16,
   "metadata": {},
   "outputs": [
    {
     "data": {
      "text/plain": [
       "'This is comment too\\nbut you can make this \\ncomment become a paragraph'"
      ]
     },
     "execution_count": 16,
     "metadata": {},
     "output_type": "execute_result"
    }
   ],
   "source": [
    "# This is a COMMENT, but this just execute one line comment\n",
    "'''This is comment too\n",
    "but you can make this \n",
    "comment become a paragraph'''"
   ]
  },
  {
   "cell_type": "markdown",
   "metadata": {},
   "source": [
    "# 2 Simple Python Math"
   ]
  },
  {
   "cell_type": "code",
   "execution_count": 17,
   "metadata": {},
   "outputs": [
    {
     "data": {
      "text/plain": [
       "2"
      ]
     },
     "execution_count": 17,
     "metadata": {},
     "output_type": "execute_result"
    }
   ],
   "source": [
    "1 + 1\n",
    "# Cklick \"Shift+Enter\" it will run syntax"
   ]
  },
  {
   "cell_type": "code",
   "execution_count": 18,
   "metadata": {},
   "outputs": [
    {
     "data": {
      "text/plain": [
       "35"
      ]
     },
     "execution_count": 18,
     "metadata": {},
     "output_type": "execute_result"
    }
   ],
   "source": [
    "5 * 7"
   ]
  },
  {
   "cell_type": "code",
   "execution_count": 19,
   "metadata": {},
   "outputs": [
    {
     "data": {
      "text/plain": [
       "35"
      ]
     },
     "execution_count": 19,
     "metadata": {},
     "output_type": "execute_result"
    }
   ],
   "source": [
    "1 + 1\n",
    "5 * 7\n",
    "# This Syntax Just Printing the last one"
   ]
  },
  {
   "cell_type": "markdown",
   "metadata": {},
   "source": [
    "# 3 FUNCTIONS"
   ]
  },
  {
   "cell_type": "markdown",
   "metadata": {},
   "source": [
    "Pyhton will more advanced  math with fuction\n",
    "ex: print()"
   ]
  },
  {
   "cell_type": "code",
   "execution_count": 20,
   "metadata": {},
   "outputs": [
    {
     "ename": "NameError",
     "evalue": "name 'sin' is not defined",
     "output_type": "error",
     "traceback": [
      "\u001b[1;31m---------------------------------------------------------------------------\u001b[0m",
      "\u001b[1;31mNameError\u001b[0m                                 Traceback (most recent call last)",
      "Cell \u001b[1;32mIn[20], line 2\u001b[0m\n\u001b[0;32m      1\u001b[0m \u001b[38;5;66;03m# Lest Try another\u001b[39;00m\n\u001b[1;32m----> 2\u001b[0m \u001b[43msin\u001b[49m(\u001b[38;5;241m3\u001b[39m)\n\u001b[0;32m      3\u001b[0m sqrt(\u001b[38;5;241m4\u001b[39m)\n\u001b[0;32m      5\u001b[0m \u001b[38;5;124;03m'''Why Error?\u001b[39;00m\n\u001b[0;32m      6\u001b[0m \u001b[38;5;124;03mWhat happen?\u001b[39;00m\n\u001b[0;32m      7\u001b[0m \u001b[38;5;124;03mwe need more step\u001b[39;00m\n\u001b[0;32m      8\u001b[0m \u001b[38;5;124;03m'''\u001b[39;00m\n",
      "\u001b[1;31mNameError\u001b[0m: name 'sin' is not defined"
     ]
    }
   ],
   "source": [
    "# Lest Try another\n",
    "sin(3)\n",
    "sqrt(4)\n",
    "\n",
    "'''Why Error?\n",
    "What happen?\n",
    "we need more step\n",
    "'''"
   ]
  },
  {
   "cell_type": "markdown",
   "metadata": {},
   "source": [
    "# 4 Math Operation\n",
    "\n",
    "|Fuction                       |Symbol    |Syntax    |Returned Value (Run Syntax)   |\n",
    "|-----------------------------:|---------:|---------:|:-----------------------------|\n",
    "|- Addtion (Pertambahan)       | +        |2 + 2     |    4                         |\n",
    "|- Subtitution (Pengurangan)   | -        |4 - 2     |    2                         |\n",
    "|- Multiplication (perkalian)  | *        |2 * 3     |    6                         |\n",
    "|- Division (Pembagian)        |/         |4 / 2     |    2                         |\n",
    "|- Exponentian (Penmangkatan)  | **       | 2**      |    8                         |\n",
    "\n",
    "For More advanced math you can use `module or library` this module is called `math` and it can be loaded by typing `import math`.\n"
   ]
  },
  {
   "cell_type": "code",
   "execution_count": null,
   "metadata": {},
   "outputs": [
    {
     "name": "stdout",
     "output_type": "stream",
     "text": [
      "0.1411200080598672\n",
      "2.0\n",
      "3.141592653589793\n",
      "1.2246467991473532e-16\n"
     ]
    }
   ],
   "source": [
    "# For Example \n",
    "import math # we loaded a modulename 'math' \n",
    "\n",
    "sin_1 = math.sin(3)\n",
    "print(sin_1) # Output 0.1411\n",
    "\n",
    "sqrt_1 = math.sqrt(4)\n",
    "print(sqrt_1) # Output 2.0\n",
    "\n",
    "pi_1 = math.pi\n",
    "print(pi_1) # Output 3.14\n",
    "\n",
    "# can python calculate this\n",
    "sin_pi = math.sin(math.pi)\n",
    "print(sin_pi) # Output 1.22"
   ]
  },
  {
   "cell_type": "markdown",
   "metadata": {},
   "source": [
    "# 5 Combining functions"
   ]
  },
  {
   "cell_type": "markdown",
   "metadata": {},
   "source": [
    "1. Fuctions can also be combined for example `print(math.sqrt(4))`\n",
    "2. You can also combined text with other calculated for example `print(\"The square root of 4 is\", math.sqrt(4))`"
   ]
  },
  {
   "cell_type": "code",
   "execution_count": 22,
   "metadata": {},
   "outputs": [
    {
     "name": "stdout",
     "output_type": "stream",
     "text": [
      "2.0\n",
      "The square root of 4 is 2.0\n"
     ]
    }
   ],
   "source": [
    "# Example 1 \n",
    "print(math.sqrt(4))\n",
    "\n",
    "# Example 2\n",
    "print(\"The square root of 4 is\", math.sqrt(4))"
   ]
  },
  {
   "cell_type": "markdown",
   "metadata": {},
   "source": [
    "# 6 Variables"
   ]
  },
  {
   "cell_type": "markdown",
   "metadata": {},
   "source": [
    "## a. Variable assignment\n",
    "\n",
    "To assign a value, you simply type `variable_name = value`.\n",
    "\n",
    "where  `variable_name` is the name of the variable you wish to define"
   ]
  },
  {
   "cell_type": "code",
   "execution_count": 23,
   "metadata": {},
   "outputs": [],
   "source": [
    "# For example\n",
    "temp_celcius = 10.0"
   ]
  },
  {
   "cell_type": "markdown",
   "metadata": {},
   "source": [
    "In order to see the value that has been assigned to the `temp_celsius variable` you need to either use the `print()` function (e.g., `print(temp_celsius))`) or simply type the name of the variable into the code cell to have its value displayed.\n",
    "\n",
    "look example below:    `temp_celcius` or `print(temp_celcius)`"
   ]
  },
  {
   "cell_type": "code",
   "execution_count": 25,
   "metadata": {},
   "outputs": [
    {
     "name": "stdout",
     "output_type": "stream",
     "text": [
      "10.0\n"
     ]
    }
   ],
   "source": [
    "temp_celcius\n",
    "\n",
    "# or\n",
    "\n",
    "print(temp_celcius)"
   ]
  },
  {
   "cell_type": "markdown",
   "metadata": {},
   "source": [
    "It is also possible to combine text and numbers and even use some math when printing out variable values. \n",
    "\n",
    "Look at below for example: `print(\"Temperature in Fahrenheit:\", 9 / 5 * temp_celcius + 32)`"
   ]
  },
  {
   "cell_type": "code",
   "execution_count": 26,
   "metadata": {},
   "outputs": [
    {
     "name": "stdout",
     "output_type": "stream",
     "text": [
      "Temperature in Fahrenheit: 50.0\n"
     ]
    }
   ],
   "source": [
    "print(\"Temperature in Fahrenheit:\", 9 / 5 * temp_celcius + 32)"
   ]
  },
  {
   "cell_type": "markdown",
   "metadata": {},
   "source": [
    "Define a variable and display its value on the screen. The variable value can be anything you like, and you can even consider defining several variables and printing them out together."
   ]
  },
  {
   "cell_type": "code",
   "execution_count": null,
   "metadata": {},
   "outputs": [],
   "source": [
    "my_variable = \"Python is cool!\"\n",
    "my_variable"
   ]
  }
 ],
 "metadata": {
  "kernelspec": {
   "display_name": "Python 3",
   "language": "python",
   "name": "python3"
  },
  "language_info": {
   "codemirror_mode": {
    "name": "ipython",
    "version": 3
   },
   "file_extension": ".py",
   "mimetype": "text/x-python",
   "name": "python",
   "nbconvert_exporter": "python",
   "pygments_lexer": "ipython3",
   "version": "3.12.5"
  }
 },
 "nbformat": 4,
 "nbformat_minor": 2
}
